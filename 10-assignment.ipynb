{
 "cells": [
  {
   "cell_type": "markdown",
   "metadata": {
    "collapsed": true
   },
   "source": [
    "\n",
    "# Image Processing SS 18 - Assignment - 10\n",
    "\n",
    "### Deadline is 27.06.2016 at 8:00 a.m. \n",
    "\n",
    "Please solve the assignments together with a partner.\n",
    "I will run every notebook. Make sure the code runs through. Select `Kernel` -> `Restart & Run All` to test it.\n",
    "Please strip the output from the cells, either select `Cell` -> `All Output` -> `Clear` or use the `nb_strip_output.py` script / git hook."
   ]
  },
  {
   "cell_type": "code",
   "execution_count": null,
   "metadata": {
    "collapsed": true
   },
   "outputs": [],
   "source": [
    "# display the plots inside the notebook\n",
    "%matplotlib inline"
   ]
  },
  {
   "cell_type": "code",
   "execution_count": null,
   "metadata": {
    "collapsed": true
   },
   "outputs": [],
   "source": [
    "import numpy as np\n",
    "import matplotlib.pyplot as plt\n",
    "import pylab\n",
    "import scipy.io.wavfile\n",
    "from skimage.data import astronaut\n",
    "from skimage.color import rgb2gray\n",
    "from skimage.transform import rescale, resize, downscale_local_mean\n",
    "\n",
    "from __future__ import division\n",
    "import random\n",
    "try:\n",
    "    from StringIO import StringIO as BytesIO\n",
    "except ImportError:\n",
    "    from io import BytesIO\n",
    "    \n",
    "try:\n",
    "    import urllib.request as urllib2\n",
    "except ImportError:\n",
    "    import urllib2\n",
    "    \n",
    "    \n",
    "from numpy.fft import fft2 as numpy_fft2, ifft2 as numpy_ifft2\n",
    "from scipy.fftpack import dctn, idctn\n",
    "from PIL import Image\n",
    "import itertools\n",
    "import IPython\n",
    "import zipfile\n",
    "pylab.rcParams['figure.figsize'] = (12, 12)   # This makes the plot bigger"
   ]
  },
  {
   "cell_type": "markdown",
   "metadata": {},
   "source": [
    "# Exercise 1 - Hadamard Matrix - 5 Points\n",
    "\n"
   ]
  },
  {
   "cell_type": "code",
   "execution_count": null,
   "metadata": {
    "collapsed": false
   },
   "outputs": [],
   "source": [
    "def hadamard_matrix(n):\n",
    "    \"\"\"Returns the Hadamard matrix. N is a power of two.\"\"\"\n",
    "    n = int(n)\n",
    "    assert (n > 0) and ((n & (n - 1)) == 0), \"argument has to be a power of two!\"\n",
    "    H = np.zeros((n,n))\n",
    "    H[0,0] = 1\n",
    "    for i in range(int(np.log2(n))):\n",
    "        rec = H[0:2**i,0:2**i]\n",
    "        H[2**i:2**(i+1), 0:2**i] = rec\n",
    "        H[0:2**i, 2**i:2**(i+1)] = rec\n",
    "        H[2**i:2**(i+1), 2**i:2**(i+1)] = -1*rec\n",
    "    return H / np.sqrt(n)\n",
    "\n",
    "plt.subplot(121)\n",
    "plt.imshow(hadamard_matrix(8), cmap='gray')\n",
    "plt.subplot(122)\n",
    "plt.imshow(hadamard_matrix(32), cmap='gray')\n",
    "plt.show()"
   ]
  },
  {
   "cell_type": "code",
   "execution_count": null,
   "metadata": {
    "collapsed": true
   },
   "outputs": [],
   "source": [
    "def get_chess_board(n=8, field_size=8):\n",
    "    board = np.zeros((n*field_size, n*field_size))\n",
    "    s = field_size\n",
    "    for i in range(n):\n",
    "        for j in range(n):\n",
    "            if (i + j) % 2 == 0:\n",
    "                board[i*s:(i+1)*s, j*s:(j+1)*s] = 1\n",
    "    return board\n",
    "\n",
    "def get_sinus_board(n=8, field_size=8, shift=0):\n",
    "    img_size = n*field_size\n",
    "    linsp = np.linspace(-shift, np.pi*n - shift, img_size).reshape((img_size, 1))\n",
    "    return np.dot(np.sin(linsp), np.sin(linsp.T))\n"
   ]
  },
  {
   "cell_type": "code",
   "execution_count": null,
   "metadata": {
    "collapsed": false
   },
   "outputs": [],
   "source": [
    "chess_board = get_chess_board()\n",
    "chess_board_roll = np.roll(np.roll(chess_board, 4, axis=0), 4, axis=1)\n",
    "sinus_board = get_sinus_board()\n",
    "sinus_board_roll = get_sinus_board(shift=4)\n",
    "plt.subplot(221)\n",
    "plt.imshow(chess_board, cmap='gray')\n",
    "plt.subplot(222)\n",
    "plt.imshow(sinus_board, cmap='gray')\n",
    "plt.subplot(223)\n",
    "plt.imshow(chess_board_roll, cmap='gray')\n",
    "plt.subplot(224)\n",
    "plt.imshow(sinus_board_roll, cmap='gray')\n",
    "plt.show()"
   ]
  },
  {
   "cell_type": "code",
   "execution_count": null,
   "metadata": {
    "collapsed": false
   },
   "outputs": [],
   "source": [
    "# Plot the 2d hadamard transformation of the chess boards and sinus boards.\n",
    "# The 2D Hadamard Transformation can be computed similiar to the 2D DFT:\n",
    "# H * I * H, where I is the image, H is the hadamard-matrix and * is the matrix multiplication.\n",
    "\n",
    "H = hadamard_matrix(64)\n",
    "\n",
    "chess_board_H = (H @ chess_board) @ H\n",
    "chess_board_roll_H = (H @ chess_board_roll) @ H\n",
    "sinus_board_H = (H @ sinus_board) @ H\n",
    "sinus_board_roll_H = (H @ sinus_board_roll) @ H\n",
    "\n",
    "plt.subplot(221)\n",
    "plt.imshow(chess_board_H, cmap='gray')\n",
    "plt.subplot(222)\n",
    "plt.imshow(sinus_board_H, cmap='gray')\n",
    "plt.subplot(223)\n",
    "plt.imshow(chess_board_roll_H, cmap='gray')\n",
    "plt.subplot(224)\n",
    "plt.imshow(sinus_board_roll_H, cmap='gray')\n",
    "plt.show()"
   ]
  },
  {
   "cell_type": "code",
   "execution_count": null,
   "metadata": {
    "collapsed": false
   },
   "outputs": [],
   "source": [
    "plt.imshow(np.dot(np.dot(H, chess_board_roll), H))\n",
    "\n",
    "# Plot the fourier transformation of chess boards and sinus boards. \n",
    "# You can use some functions from np.ftt\n",
    "chess_board_ft = np.real(numpy_fft2(chess_board))\n",
    "chess_board_roll_ft = np.real(numpy_fft2(chess_board_roll) )\n",
    "sinus_board_ft = np.real(numpy_fft2(sinus_board))\n",
    "sinus_board_roll_ft = np.real(numpy_fft2(sinus_board_roll))\n",
    "\n",
    "plt.subplot(221)\n",
    "plt.imshow(chess_board_ft, cmap='gray')\n",
    "plt.subplot(222)\n",
    "plt.imshow(sinus_board_ft, cmap='gray')\n",
    "plt.subplot(223)\n",
    "plt.imshow(chess_board_roll_ft, cmap='gray')\n",
    "plt.subplot(224)\n",
    "plt.imshow(sinus_board_roll_ft, cmap='gray')\n",
    "plt.show()"
   ]
  },
  {
   "cell_type": "markdown",
   "metadata": {},
   "source": [
    "# Exercise 2 - Compare DCT with Discrete Hadamard Transformation - 5 Points"
   ]
  },
  {
   "cell_type": "markdown",
   "metadata": {
    "collapsed": true
   },
   "source": [
    "Load the astronaut image, make sure it has a resolution of 256*256 pixels. \n",
    "\n",
    "Transform with :\n",
    "\n",
    "a) DCT\n",
    "\n",
    "b) DiskreteWalshHadamardTransf\n",
    "\n",
    "Use different window sizes: 8x8, 32x32, 256x256. \n",
    "\n",
    "Erase **75 percent** of coefficents. \n",
    "\n",
    "Transform back into image space and calculate the average quadratic pixel error w.r.t. the original image. \n",
    "\n",
    "Make a table, which contains on top: DCT / DWalHadT and shows the error for WindowSize 8x8, 32x32, 256x256 \n",
    "for DCT and DWalHadT respectively."
   ]
  },
  {
   "cell_type": "code",
   "execution_count": null,
   "metadata": {
    "collapsed": true
   },
   "outputs": [],
   "source": [
    "def dwht2(img):\n",
    "    assert img.shape[0] == img.shape[1]\n",
    "    transformed = np.copy(img)\n",
    "    M = hadamard_matrix(img.shape[0])\n",
    "    return (M @ transformed) @ M"
   ]
  },
  {
   "cell_type": "code",
   "execution_count": null,
   "metadata": {
    "collapsed": true
   },
   "outputs": [],
   "source": [
    "def idwht2(img):\n",
    "    assert img.shape[0] == img.shape[1]\n",
    "    transformed = np.copy(img)\n",
    "    M = np.linalg.inv(hadamard_matrix(img.shape[0]))\n",
    "    return (M @ transformed) @ M"
   ]
  },
  {
   "cell_type": "code",
   "execution_count": null,
   "metadata": {
    "collapsed": true
   },
   "outputs": [],
   "source": [
    "def dct2(img):\n",
    "    return dctn(img, norm='ortho')"
   ]
  },
  {
   "cell_type": "code",
   "execution_count": null,
   "metadata": {
    "collapsed": true
   },
   "outputs": [],
   "source": [
    "def idct2(img):\n",
    "    return idctn(img, norm='ortho')"
   ]
  },
  {
   "cell_type": "code",
   "execution_count": null,
   "metadata": {
    "collapsed": true
   },
   "outputs": [],
   "source": [
    "def eraseCoeff(transformation, amount=0.25):\n",
    "    '''erases (approx.) amount*100% of coefficents of transformation (sets them 0)'''\n",
    "    assert 1 >= amount and amount >= 0, \"amount has to be a fraction (float, element of [0,1])\"\n",
    "    total = np.prod(transformation.shape[0:2])\n",
    "    side = int(round(np.sqrt(total*(1-amount))))\n",
    "    mask = np.zeros_like(transformation)\n",
    "    mask[:side, :side] = 1\n",
    "    return transformation * mask  "
   ]
  },
  {
   "cell_type": "code",
   "execution_count": null,
   "metadata": {
    "collapsed": true
   },
   "outputs": [],
   "source": [
    "def apply_transform(data, window_size, func, erase=False):\n",
    "    assert (data.shape[0] % window_size) == 0 and (data.shape[1] % window_size) == 0\n",
    "    transformed = np.zeros_like(data)\n",
    "    for i in range(0, data.shape[0], window_size):\n",
    "        for j in range(0, data.shape[1], window_size):\n",
    "            trans = func(data[i:i+window_size, j:j+window_size])\n",
    "            if erase:\n",
    "                trans = eraseCoeff(trans, 0.75)\n",
    "            transformed[i:i+window_size, j:j+window_size] = trans\n",
    "    return transformed "
   ]
  },
  {
   "cell_type": "code",
   "execution_count": null,
   "metadata": {
    "collapsed": true
   },
   "outputs": [],
   "source": [
    "astro = rgb2gray(astronaut())"
   ]
  },
  {
   "cell_type": "code",
   "execution_count": null,
   "metadata": {
    "collapsed": false
   },
   "outputs": [],
   "source": [
    "print(np.min(astro), np.max(astro))"
   ]
  },
  {
   "cell_type": "code",
   "execution_count": null,
   "metadata": {
    "collapsed": true
   },
   "outputs": [],
   "source": [
    "# No downscaling, 'cause Prof. said so"
   ]
  },
  {
   "cell_type": "code",
   "execution_count": null,
   "metadata": {
    "collapsed": true
   },
   "outputs": [],
   "source": [
    "#astro = downscale_local_mean(astro, (2, 2))"
   ]
  },
  {
   "cell_type": "code",
   "execution_count": null,
   "metadata": {
    "collapsed": false
   },
   "outputs": [],
   "source": [
    "astro.shape"
   ]
  },
  {
   "cell_type": "code",
   "execution_count": null,
   "metadata": {
    "collapsed": false
   },
   "outputs": [],
   "source": [
    "plt.imshow(astro, cmap='gray')\n",
    "plt.show()"
   ]
  },
  {
   "cell_type": "code",
   "execution_count": null,
   "metadata": {
    "collapsed": false
   },
   "outputs": [],
   "source": [
    "window_sizes = [2**i for i in range(1, int(np.log2(astro.shape[0]))+1)]\n",
    "window_sizes"
   ]
  },
  {
   "cell_type": "code",
   "execution_count": null,
   "metadata": {
    "collapsed": false
   },
   "outputs": [],
   "source": [
    "DCT = [apply_transform(astro, win_size, dct2, erase=True) for win_size in window_sizes]\n",
    "for dct_transform in DCT:\n",
    "    plt.imshow(dct_transform, cmap='gray')\n",
    "    plt.show()"
   ]
  },
  {
   "cell_type": "code",
   "execution_count": null,
   "metadata": {
    "collapsed": false
   },
   "outputs": [],
   "source": [
    "DWHT = [apply_transform(astro, win_size, dwht2, erase=True) for win_size in window_sizes]\n",
    "for dwht_transform in DWHT:\n",
    "    plt.imshow(dwht_transform, cmap='gray')\n",
    "    plt.show()"
   ]
  },
  {
   "cell_type": "code",
   "execution_count": null,
   "metadata": {
    "collapsed": false
   },
   "outputs": [],
   "source": [
    "DCT_recon = [apply_transform(dct, win_size, idct2) for (dct, win_size) in zip(DCT, window_sizes)]\n",
    "for dct_rec in DCT_recon:\n",
    "    plt.imshow(dct_rec, cmap='gray')\n",
    "    plt.show()"
   ]
  },
  {
   "cell_type": "code",
   "execution_count": null,
   "metadata": {
    "collapsed": false
   },
   "outputs": [],
   "source": [
    "DWHT_recon = [apply_transform(dwht, win_size, idwht2) for (dwht, win_size) in zip(DWHT, window_sizes)]\n",
    "for dwht_rec in DWHT_recon:\n",
    "    plt.imshow(dwht_rec, cmap='gray')\n",
    "    plt.show()"
   ]
  },
  {
   "cell_type": "code",
   "execution_count": null,
   "metadata": {
    "collapsed": false
   },
   "outputs": [],
   "source": [
    "np.min(DWHT_recon), np.max(DWHT_recon)"
   ]
  },
  {
   "cell_type": "code",
   "execution_count": null,
   "metadata": {
    "collapsed": false
   },
   "outputs": [],
   "source": [
    "np.min(DCT_recon), np.max(DCT_recon)"
   ]
  },
  {
   "cell_type": "code",
   "execution_count": null,
   "metadata": {
    "collapsed": true
   },
   "outputs": [],
   "source": [
    "def norm_img(img):\n",
    "    if np.min(img) < 0:\n",
    "        img += np.abs(np.min(img))\n",
    "    img /= np.max(img)\n",
    "    return img"
   ]
  },
  {
   "cell_type": "code",
   "execution_count": null,
   "metadata": {
    "collapsed": true
   },
   "outputs": [],
   "source": [
    "for dct_rec in DCT_recon:\n",
    "    norm_img(dct_rec)"
   ]
  },
  {
   "cell_type": "code",
   "execution_count": null,
   "metadata": {
    "collapsed": true
   },
   "outputs": [],
   "source": [
    "for dwht_rec in DWHT_recon:\n",
    "    norm_img(dwht_rec)"
   ]
  },
  {
   "cell_type": "code",
   "execution_count": null,
   "metadata": {
    "collapsed": true
   },
   "outputs": [],
   "source": [
    "def diff(X, Y):\n",
    "    assert X.shape == Y.shape\n",
    "    return np.sum(np.power((X-Y), 2)) / np.prod(X.shape[:2])"
   ]
  },
  {
   "cell_type": "code",
   "execution_count": null,
   "metadata": {
    "collapsed": true
   },
   "outputs": [],
   "source": [
    "DCT_diffs = [diff(astro, dct_rec) for dct_rec in DCT_recon]\n",
    "DWHT_diffs = [diff(astro, dwht_rec) for dwht_rec in DWHT_recon]"
   ]
  },
  {
   "cell_type": "code",
   "execution_count": null,
   "metadata": {
    "collapsed": true
   },
   "outputs": [],
   "source": [
    "data = np.array([DCT_diffs, DWHT_diffs]).T\n",
    "data = np.round(data, 5)\n",
    "root_data = np.sqrt(np.copy(data))\n",
    "title = \"Reconstruction error after 75 percent of coefficients erased\""
   ]
  },
  {
   "cell_type": "code",
   "execution_count": null,
   "metadata": {
    "collapsed": true
   },
   "outputs": [],
   "source": [
    "columns = ('DCT', 'DWalHadT')\n",
    "rows = ['%dx%d' % (w_size, w_size) for w_size in window_sizes]"
   ]
  },
  {
   "cell_type": "code",
   "execution_count": null,
   "metadata": {
    "collapsed": true
   },
   "outputs": [],
   "source": [
    "plot_DCT = DCT_diffs\n",
    "plot_DWHT = DWHT_diffs\n",
    "ceil = 0.1"
   ]
  },
  {
   "cell_type": "code",
   "execution_count": null,
   "metadata": {
    "collapsed": true
   },
   "outputs": [],
   "source": [
    "plot_DCT = np.sqrt(np.copy(DCT_diffs))\n",
    "plot_DWHT = np.sqrt(np.copy(DWHT_diffs))\n",
    "ceil = 0.3"
   ]
  },
  {
   "cell_type": "code",
   "execution_count": null,
   "metadata": {
    "collapsed": true
   },
   "outputs": [],
   "source": [
    "pylab.rcParams['figure.figsize'] = (14, 8)\n",
    "plt.style.use('ggplot')"
   ]
  },
  {
   "cell_type": "code",
   "execution_count": null,
   "metadata": {
    "collapsed": false
   },
   "outputs": [],
   "source": [
    "plt.plot(plot_DCT, 'r')\n",
    "plt.plot(plot_DCT, 'ro')\n",
    "plt.plot(plot_DWHT, 'b')\n",
    "plt.plot(plot_DWHT, 'bo')\n",
    "plt.axis([0, len(rows), 0, ceil])\n",
    "locs, labels = plt.xticks()\n",
    "plt.xticks(locs, rows)\n",
    "plt.title(title)\n",
    "plt.xlabel('Subimage size', fontsize=14)\n",
    "plt.ylabel('Root-mean-square error', fontsize=14)\n",
    "plt.text(len(rows)-0.9, plot_DCT[-1], columns[0], fontsize=14)\n",
    "plt.text(len(rows)-0.9, plot_DWHT[-1], columns[1], fontsize=14)\n",
    "plt.show()"
   ]
  },
  {
   "cell_type": "code",
   "execution_count": null,
   "metadata": {
    "collapsed": true
   },
   "outputs": [],
   "source": [
    "import pandas as pd\n",
    "df = pd.DataFrame(data, columns=columns, index=rows)"
   ]
  },
  {
   "cell_type": "code",
   "execution_count": null,
   "metadata": {
    "collapsed": false
   },
   "outputs": [],
   "source": [
    "print(title,\"\\n-> Mean-square error depending on subimage size in pixels\")\n",
    "df"
   ]
  }
 ],
 "metadata": {
  "kernelspec": {
   "display_name": "Python [default]",
   "language": "python",
   "name": "python3"
  },
  "language_info": {
   "codemirror_mode": {
    "name": "ipython",
    "version": 3
   },
   "file_extension": ".py",
   "mimetype": "text/x-python",
   "name": "python",
   "nbconvert_exporter": "python",
   "pygments_lexer": "ipython3",
   "version": "3.6.0"
  }
 },
 "nbformat": 4,
 "nbformat_minor": 1
}
